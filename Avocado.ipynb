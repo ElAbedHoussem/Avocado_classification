{
 "cells": [
  {
   "cell_type": "code",
   "execution_count": 95,
   "metadata": {},
   "outputs": [],
   "source": [
    "import tensorflow as tf\n",
    "import keras\n",
    "import numpy as np\n",
    "import os\n",
    "import matplotlib.pyplot as plt\n",
    "\n",
    "\n",
    "from keras.preprocessing.image import ImageDataGenerator\n",
    "from keras.models import Model\n",
    "from keras.applications.vgg16 import VGG16\n",
    "from keras.applications.vgg16 import preprocess_input\n",
    "\n",
    "from keras import optimizers\n",
    "from keras.callbacks import ModelCheckpoint ,EarlyStopping,ReduceLROnPlateau\n",
    "from keras.models import Sequential,Model\n",
    "from keras.layers import Dense, Activation,Input,GlobalAveragePooling2D,Flatten\n",
    "from keras.utils import plot_model"
   ]
  },
  {
   "cell_type": "code",
   "execution_count": 96,
   "metadata": {},
   "outputs": [],
   "source": [
    "datasetPath = './Avocado/'"
   ]
  },
  {
   "cell_type": "code",
   "execution_count": 97,
   "metadata": {},
   "outputs": [],
   "source": [
    "ripe_train_path = datasetPath+'train/Ripe/'\n",
    "unripe_train_path = datasetPath+'train/Unripe/'\n",
    "ripe_validation_path = datasetPath+'validation/Ripe/'\n",
    "unripe_validation_path = datasetPath+'validation/Unripe/'\n",
    "ripe_test_path = datasetPath+'test/Ripe/'\n",
    "unripe_test_path = datasetPath+'test/Unripe/'"
   ]
  },
  {
   "cell_type": "markdown",
   "metadata": {},
   "source": [
    "## Construct data"
   ]
  },
  {
   "cell_type": "code",
   "execution_count": 64,
   "metadata": {},
   "outputs": [],
   "source": [
    "ripe_train = []\n",
    "for root, subdirs, files in os.walk(ripe_train_path):\n",
    "    for elem in files:\n",
    "        img = tf.keras.preprocessing.image.load_img(ripe_train_path+elem, target_size=(224, 224))\n",
    "        new_img = np.array(img, dtype=np.float64)/255.0\n",
    "        ripe_train.append(np.expand_dims(new_img, axis=0))\n",
    "unripe_train = []\n",
    "for root, subdirs, files in os.walk(unripe_train_path):\n",
    "    for elem in files:\n",
    "        img = tf.keras.preprocessing.image.load_img(unripe_train_path+elem, target_size=(224, 224))\n",
    "        new_img = np.array(img, dtype=np.float64)/255.0\n",
    "        unripe_train.append(np.expand_dims(new_img, axis=0))\n",
    "#######################\n",
    "ripe_truth = [0 for i in range(0, len(ripe_train))]\n",
    "unripe_truth = [0 for i in range(0, len(unripe_train))]\n",
    "#######################\n",
    "\n",
    "data_train = []\n",
    "data_train.append(ripe_train)\n",
    "data_train.append(unripe_train)\n",
    "data_train = [val for sublist in data_train for val in sublist]\n",
    "\n",
    "all_y_truth = []\n",
    "all_y_truth.append(ripe_truth)\n",
    "all_y_truth.append(unripe_truth)\n",
    "all_y_truth = [val for sublist in all_y_truth for val in sublist]\n",
    "\n",
    "## split train and test\n",
    "from sklearn.model_selection import train_test_split\n",
    "xtrain,xtest,ytrain,ytest=train_test_split(data_train,all_y_truth,test_size=0.2)\n",
    "validation_data = zip(xtest, ytest)"
   ]
  },
  {
   "cell_type": "code",
   "execution_count": 98,
   "metadata": {},
   "outputs": [
    {
     "name": "stdout",
     "output_type": "stream",
     "text": [
      "Found 748 images belonging to 2 classes.\n",
      "Found 170 images belonging to 2 classes.\n",
      "Found 309 images belonging to 2 classes.\n"
     ]
    }
   ],
   "source": [
    "train_path_dir = os.path.join(datasetPath, 'train')\n",
    "val_path_dir = os.path.join(datasetPath, 'validation')\n",
    "test_path_dir = os.path.join(datasetPath, 'test')\n",
    "\n",
    "#train_path_dir = \"/content/data/Avocado/Training\"\n",
    "#val_path_dir = \"/content/data/Avocado/Validation\"\n",
    "#491 + 427\n",
    "\n",
    "img_size = (224, 224)\n",
    "batchsize = 16 \n",
    "\n",
    "\n",
    "#### Train #####\n",
    "train_datagen = ImageDataGenerator(rescale=1./255,\n",
    "                                 rotation_range=40,\n",
    "                                 width_shift_range=0.2,\n",
    "                                 height_shift_range=0.2,\n",
    "                                 shear_range=0.2,\n",
    "                                 zoom_range=0.2,\n",
    "                                 horizontal_flip=True,\n",
    "                                 fill_mode='nearest') \n",
    "train_generator = train_datagen.flow_from_directory(train_path_dir,\n",
    "                                                  target_size=img_size,\n",
    "                                                  color_mode='rgb',\n",
    "                                                  batch_size=batchsize,\n",
    "                                                  class_mode='binary',\n",
    "                                                  shuffle=True)\n",
    "\n",
    "\n",
    "\n",
    "\n",
    "#### Validation #####\n",
    "val_datagen = ImageDataGenerator(rescale=1. / 255)\n",
    "val_generator = val_datagen.flow_from_directory(val_path_dir,\n",
    "                                                target_size=img_size,\n",
    "                                                color_mode='rgb',\n",
    "                                                batch_size=batchsize,\n",
    "                                                class_mode='binary',\n",
    "                                                shuffle=True)\n",
    "\n",
    "\n",
    "\n",
    "\n",
    "#### Test #####\n",
    "test_datagen = ImageDataGenerator(rescale=1. / 255)\n",
    "test_generator = val_datagen.flow_from_directory(test_path_dir,\n",
    "                                                target_size=img_size,\n",
    "                                                color_mode='rgb',\n",
    "                                                batch_size=batchsize,\n",
    "                                                class_mode='binary',\n",
    "                                                shuffle=True)"
   ]
  },
  {
   "cell_type": "code",
   "execution_count": 103,
   "metadata": {},
   "outputs": [],
   "source": [
    "# Load VGG16 Model, where it's Fully Connected Layers (top layer) is removed\n",
    "base_model = keras.applications.VGG16(weights='imagenet', include_top=False, input_shape=(224, 224, 3),pooling=None)\n",
    "x = base_model.output\n",
    "\n",
    "for layer in base_model.layers:\n",
    "    layer.trainable = False\n",
    "\n",
    "x = Flatten()(x)\n",
    "# Add a fully connected layer\n",
    "x = Dense(512, activation='relu')(x)\n",
    "\n",
    "# Tried adam previously, but I think sigmoid is better for binary\n",
    "predictions = Dense(1, activation='sigmoid')(x)\n",
    "model = Model(inputs=base_model.input, outputs=predictions)"
   ]
  },
  {
   "cell_type": "code",
   "execution_count": 104,
   "metadata": {},
   "outputs": [],
   "source": [
    "sgd = optimizers.SGD(lr=0.00001, decay=1e-6, momentum=0.9, nesterov=True)\n",
    "model.compile(optimizer=sgd,loss=\"binary_crossentropy\",metrics=[\"accuracy\"])\n",
    "\n",
    "# Checkpoints to stop model if validation loss is not decreasing\n",
    "ModelCheckpointcheckpoint = ModelCheckpoint(\"best_model.h5\",monitor='val_loss',mode='min',save_best_only=True,verbose=1)\n",
    "EarlyStoppingearlystop = EarlyStopping(monitor = 'val_loss',min_delta = 0,patience = 10,verbose = 1,restore_best_weights = True)\n",
    "reducelr=ReduceLROnPlateau(monitor='val_loss', factor=0.1, patience=2, verbose=0, mode='auto', min_delta=0.0001, cooldown=0, min_lr=0)\n",
    "callbacks=[ModelCheckpointcheckpoint,EarlyStoppingearlystop,reducelr]"
   ]
  },
  {
   "cell_type": "code",
   "execution_count": 105,
   "metadata": {},
   "outputs": [],
   "source": [
    "import sys\n",
    "from PIL import Image\n",
    "sys.modules['Image'] = Image \n",
    "from PIL import Image\n",
    "import Image"
   ]
  },
  {
   "cell_type": "code",
   "execution_count": 107,
   "metadata": {},
   "outputs": [
    {
     "name": "stdout",
     "output_type": "stream",
     "text": [
      "Epoch 1/50\n",
      "46/46 [==============================] - ETA: 0s - loss: 0.6857 - accuracy: 0.5287\n",
      "Epoch 00001: val_loss improved from inf to 0.70808, saving model to best_model.h5\n",
      "46/46 [==============================] - 162s 4s/step - loss: 0.6857 - accuracy: 0.5287 - val_loss: 0.7081 - val_accuracy: 0.5000\n",
      "Epoch 2/50\n",
      "46/46 [==============================] - ETA: 0s - loss: 0.6527 - accuracy: 0.6325\n",
      "Epoch 00002: val_loss improved from 0.70808 to 0.66511, saving model to best_model.h5\n",
      "46/46 [==============================] - 149s 3s/step - loss: 0.6527 - accuracy: 0.6325 - val_loss: 0.6651 - val_accuracy: 0.5938\n",
      "Epoch 3/50\n",
      "46/46 [==============================] - ETA: 0s - loss: 0.6378 - accuracy: 0.7008\n",
      "Epoch 00003: val_loss improved from 0.66511 to 0.64524, saving model to best_model.h5\n",
      "46/46 [==============================] - 143s 3s/step - loss: 0.6378 - accuracy: 0.7008 - val_loss: 0.6452 - val_accuracy: 0.5750\n",
      "Epoch 4/50\n",
      "46/46 [==============================] - ETA: 0s - loss: 0.6035 - accuracy: 0.7609\n",
      "Epoch 00004: val_loss improved from 0.64524 to 0.62038, saving model to best_model.h5\n",
      "46/46 [==============================] - 139s 3s/step - loss: 0.6035 - accuracy: 0.7609 - val_loss: 0.6204 - val_accuracy: 0.6062\n",
      "Epoch 5/50\n",
      "46/46 [==============================] - ETA: 0s - loss: 0.5915 - accuracy: 0.7732\n",
      "Epoch 00005: val_loss improved from 0.62038 to 0.59849, saving model to best_model.h5\n",
      "46/46 [==============================] - 138s 3s/step - loss: 0.5915 - accuracy: 0.7732 - val_loss: 0.5985 - val_accuracy: 0.6187\n",
      "Epoch 6/50\n",
      "46/46 [==============================] - ETA: 0s - loss: 0.5816 - accuracy: 0.7705\n",
      "Epoch 00006: val_loss improved from 0.59849 to 0.58198, saving model to best_model.h5\n",
      "46/46 [==============================] - 140s 3s/step - loss: 0.5816 - accuracy: 0.7705 - val_loss: 0.5820 - val_accuracy: 0.6938\n",
      "Epoch 7/50\n",
      "46/46 [==============================] - ETA: 0s - loss: 0.5652 - accuracy: 0.8361\n",
      "Epoch 00007: val_loss improved from 0.58198 to 0.57186, saving model to best_model.h5\n",
      "46/46 [==============================] - 133s 3s/step - loss: 0.5652 - accuracy: 0.8361 - val_loss: 0.5719 - val_accuracy: 0.6562\n",
      "Epoch 8/50\n",
      "46/46 [==============================] - ETA: 0s - loss: 0.5433 - accuracy: 0.8525\n",
      "Epoch 00008: val_loss improved from 0.57186 to 0.53897, saving model to best_model.h5\n",
      "46/46 [==============================] - 134s 3s/step - loss: 0.5433 - accuracy: 0.8525 - val_loss: 0.5390 - val_accuracy: 0.9250\n",
      "Epoch 9/50\n",
      "46/46 [==============================] - ETA: 0s - loss: 0.5312 - accuracy: 0.8907\n",
      "Epoch 00009: val_loss improved from 0.53897 to 0.52520, saving model to best_model.h5\n",
      "46/46 [==============================] - 136s 3s/step - loss: 0.5312 - accuracy: 0.8907 - val_loss: 0.5252 - val_accuracy: 0.9250\n",
      "Epoch 10/50\n",
      "46/46 [==============================] - ETA: 0s - loss: 0.5249 - accuracy: 0.8893\n",
      "Epoch 00010: val_loss improved from 0.52520 to 0.51092, saving model to best_model.h5\n",
      "46/46 [==============================] - 134s 3s/step - loss: 0.5249 - accuracy: 0.8893 - val_loss: 0.5109 - val_accuracy: 0.9187\n",
      "Epoch 11/50\n",
      "46/46 [==============================] - ETA: 0s - loss: 0.5073 - accuracy: 0.8962\n",
      "Epoch 00011: val_loss improved from 0.51092 to 0.50117, saving model to best_model.h5\n",
      "46/46 [==============================] - 135s 3s/step - loss: 0.5073 - accuracy: 0.8962 - val_loss: 0.5012 - val_accuracy: 0.9500\n",
      "Epoch 12/50\n",
      "46/46 [==============================] - ETA: 0s - loss: 0.4939 - accuracy: 0.9153\n",
      "Epoch 00012: val_loss improved from 0.50117 to 0.48778, saving model to best_model.h5\n",
      "46/46 [==============================] - 135s 3s/step - loss: 0.4939 - accuracy: 0.9153 - val_loss: 0.4878 - val_accuracy: 0.9250\n",
      "Epoch 13/50\n",
      "46/46 [==============================] - ETA: 0s - loss: 0.4856 - accuracy: 0.9208\n",
      "Epoch 00013: val_loss improved from 0.48778 to 0.48266, saving model to best_model.h5\n",
      "46/46 [==============================] - 134s 3s/step - loss: 0.4856 - accuracy: 0.9208 - val_loss: 0.4827 - val_accuracy: 0.8938\n",
      "Epoch 14/50\n",
      "46/46 [==============================] - ETA: 0s - loss: 0.4791 - accuracy: 0.9085\n",
      "Epoch 00014: val_loss improved from 0.48266 to 0.47914, saving model to best_model.h5\n",
      "46/46 [==============================] - 132s 3s/step - loss: 0.4791 - accuracy: 0.9085 - val_loss: 0.4791 - val_accuracy: 0.8375\n",
      "Epoch 15/50\n",
      "46/46 [==============================] - ETA: 0s - loss: 0.4696 - accuracy: 0.9098\n",
      "Epoch 00015: val_loss improved from 0.47914 to 0.45005, saving model to best_model.h5\n",
      "46/46 [==============================] - 137s 3s/step - loss: 0.4696 - accuracy: 0.9098 - val_loss: 0.4501 - val_accuracy: 0.9312\n",
      "Epoch 16/50\n",
      "46/46 [==============================] - ETA: 0s - loss: 0.4551 - accuracy: 0.9153\n",
      "Epoch 00016: val_loss improved from 0.45005 to 0.43288, saving model to best_model.h5\n",
      "46/46 [==============================] - 138s 3s/step - loss: 0.4551 - accuracy: 0.9153 - val_loss: 0.4329 - val_accuracy: 0.9875\n",
      "Epoch 17/50\n",
      "46/46 [==============================] - ETA: 0s - loss: 0.4526 - accuracy: 0.9344\n",
      "Epoch 00017: val_loss improved from 0.43288 to 0.42392, saving model to best_model.h5\n",
      "46/46 [==============================] - 133s 3s/step - loss: 0.4526 - accuracy: 0.9344 - val_loss: 0.4239 - val_accuracy: 0.9812\n",
      "Epoch 18/50\n",
      "46/46 [==============================] - ETA: 0s - loss: 0.4423 - accuracy: 0.9331\n",
      "Epoch 00018: val_loss improved from 0.42392 to 0.41907, saving model to best_model.h5\n",
      "46/46 [==============================] - 137s 3s/step - loss: 0.4423 - accuracy: 0.9331 - val_loss: 0.4191 - val_accuracy: 0.9812\n",
      "Epoch 19/50\n",
      "46/46 [==============================] - ETA: 0s - loss: 0.4346 - accuracy: 0.9481\n",
      "Epoch 00019: val_loss did not improve from 0.41907\n",
      "46/46 [==============================] - 134s 3s/step - loss: 0.4346 - accuracy: 0.9481 - val_loss: 0.4221 - val_accuracy: 0.9500\n",
      "Epoch 20/50\n",
      "46/46 [==============================] - ETA: 0s - loss: 0.4313 - accuracy: 0.9385\n",
      "Epoch 00020: val_loss improved from 0.41907 to 0.40186, saving model to best_model.h5\n",
      "46/46 [==============================] - 135s 3s/step - loss: 0.4313 - accuracy: 0.9385 - val_loss: 0.4019 - val_accuracy: 0.9750\n",
      "Epoch 21/50\n",
      "46/46 [==============================] - ETA: 0s - loss: 0.4110 - accuracy: 0.9467\n",
      "Epoch 00021: val_loss improved from 0.40186 to 0.38723, saving model to best_model.h5\n",
      "46/46 [==============================] - 136s 3s/step - loss: 0.4110 - accuracy: 0.9467 - val_loss: 0.3872 - val_accuracy: 0.9812\n",
      "Epoch 22/50\n",
      "46/46 [==============================] - ETA: 0s - loss: 0.4061 - accuracy: 0.9522\n",
      "Epoch 00022: val_loss did not improve from 0.38723\n",
      "46/46 [==============================] - 134s 3s/step - loss: 0.4061 - accuracy: 0.9522 - val_loss: 0.3881 - val_accuracy: 0.9812\n",
      "Epoch 23/50\n",
      "46/46 [==============================] - ETA: 0s - loss: 0.4043 - accuracy: 0.9481\n",
      "Epoch 00023: val_loss improved from 0.38723 to 0.37848, saving model to best_model.h5\n",
      "46/46 [==============================] - 134s 3s/step - loss: 0.4043 - accuracy: 0.9481 - val_loss: 0.3785 - val_accuracy: 0.9812\n",
      "Epoch 24/50\n",
      "46/46 [==============================] - ETA: 0s - loss: 0.4053 - accuracy: 0.9508\n",
      "Epoch 00024: val_loss did not improve from 0.37848\n",
      "46/46 [==============================] - 135s 3s/step - loss: 0.4053 - accuracy: 0.9508 - val_loss: 0.3935 - val_accuracy: 0.9500\n",
      "Epoch 25/50\n",
      "46/46 [==============================] - ETA: 0s - loss: 0.3961 - accuracy: 0.9536\n",
      "Epoch 00025: val_loss improved from 0.37848 to 0.36774, saving model to best_model.h5\n",
      "46/46 [==============================] - 137s 3s/step - loss: 0.3961 - accuracy: 0.9536 - val_loss: 0.3677 - val_accuracy: 0.9812\n",
      "Epoch 26/50\n",
      "46/46 [==============================] - ETA: 0s - loss: 0.3790 - accuracy: 0.9590\n",
      "Epoch 00026: val_loss did not improve from 0.36774\n",
      "46/46 [==============================] - 135s 3s/step - loss: 0.3790 - accuracy: 0.9590 - val_loss: 0.3679 - val_accuracy: 0.9750\n",
      "Epoch 27/50\n",
      "46/46 [==============================] - ETA: 0s - loss: 0.3792 - accuracy: 0.9658\n",
      "Epoch 00027: val_loss improved from 0.36774 to 0.35801, saving model to best_model.h5\n",
      "46/46 [==============================] - 138s 3s/step - loss: 0.3792 - accuracy: 0.9658 - val_loss: 0.3580 - val_accuracy: 0.9812\n"
     ]
    },
    {
     "name": "stdout",
     "output_type": "stream",
     "text": [
      "Epoch 28/50\n",
      "46/46 [==============================] - ETA: 0s - loss: 0.3735 - accuracy: 0.9590\n",
      "Epoch 00028: val_loss improved from 0.35801 to 0.34955, saving model to best_model.h5\n",
      "46/46 [==============================] - 136s 3s/step - loss: 0.3735 - accuracy: 0.9590 - val_loss: 0.3495 - val_accuracy: 0.9875\n",
      "Epoch 29/50\n",
      "46/46 [==============================] - ETA: 0s - loss: 0.3631 - accuracy: 0.9604\n",
      "Epoch 00029: val_loss did not improve from 0.34955\n",
      "46/46 [==============================] - 133s 3s/step - loss: 0.3631 - accuracy: 0.9604 - val_loss: 0.3502 - val_accuracy: 0.9812\n",
      "Epoch 30/50\n",
      "46/46 [==============================] - ETA: 0s - loss: 0.3587 - accuracy: 0.9536\n",
      "Epoch 00030: val_loss improved from 0.34955 to 0.33224, saving model to best_model.h5\n",
      "46/46 [==============================] - 133s 3s/step - loss: 0.3587 - accuracy: 0.9536 - val_loss: 0.3322 - val_accuracy: 0.9937\n",
      "Epoch 31/50\n",
      "46/46 [==============================] - ETA: 0s - loss: 0.3520 - accuracy: 0.9617\n",
      "Epoch 00031: val_loss improved from 0.33224 to 0.32085, saving model to best_model.h5\n",
      "46/46 [==============================] - 132s 3s/step - loss: 0.3520 - accuracy: 0.9617 - val_loss: 0.3209 - val_accuracy: 0.9937\n",
      "Epoch 32/50\n",
      "46/46 [==============================] - ETA: 0s - loss: 0.3430 - accuracy: 0.9672\n",
      "Epoch 00032: val_loss did not improve from 0.32085\n",
      "46/46 [==============================] - 139s 3s/step - loss: 0.3430 - accuracy: 0.9672 - val_loss: 0.3211 - val_accuracy: 0.9875\n",
      "Epoch 33/50\n",
      "46/46 [==============================] - ETA: 0s - loss: 0.3395 - accuracy: 0.9740\n",
      "Epoch 00033: val_loss did not improve from 0.32085\n",
      "46/46 [==============================] - 136s 3s/step - loss: 0.3395 - accuracy: 0.9740 - val_loss: 0.3359 - val_accuracy: 0.9750\n",
      "Epoch 34/50\n",
      "46/46 [==============================] - ETA: 0s - loss: 0.3448 - accuracy: 0.9467\n",
      "Epoch 00034: val_loss did not improve from 0.32085\n",
      "46/46 [==============================] - 134s 3s/step - loss: 0.3448 - accuracy: 0.9467 - val_loss: 0.3392 - val_accuracy: 0.9750\n",
      "Epoch 35/50\n",
      "46/46 [==============================] - ETA: 0s - loss: 0.3405 - accuracy: 0.9658\n",
      "Epoch 00035: val_loss did not improve from 0.32085\n",
      "46/46 [==============================] - 134s 3s/step - loss: 0.3405 - accuracy: 0.9658 - val_loss: 0.3261 - val_accuracy: 0.9812\n",
      "Epoch 36/50\n",
      "46/46 [==============================] - ETA: 0s - loss: 0.3284 - accuracy: 0.9727\n",
      "Epoch 00036: val_loss did not improve from 0.32085\n",
      "46/46 [==============================] - 134s 3s/step - loss: 0.3284 - accuracy: 0.9727 - val_loss: 0.3277 - val_accuracy: 0.9812\n",
      "Epoch 37/50\n",
      "46/46 [==============================] - ETA: 0s - loss: 0.3359 - accuracy: 0.9686\n",
      "Epoch 00037: val_loss did not improve from 0.32085\n",
      "46/46 [==============================] - 138s 3s/step - loss: 0.3359 - accuracy: 0.9686 - val_loss: 0.3334 - val_accuracy: 0.9812\n",
      "Epoch 38/50\n",
      "46/46 [==============================] - ETA: 0s - loss: 0.3423 - accuracy: 0.9549\n",
      "Epoch 00038: val_loss improved from 0.32085 to 0.32004, saving model to best_model.h5\n",
      "46/46 [==============================] - 138s 3s/step - loss: 0.3423 - accuracy: 0.9549 - val_loss: 0.3200 - val_accuracy: 0.9875\n",
      "Epoch 39/50\n",
      "46/46 [==============================] - ETA: 0s - loss: 0.3264 - accuracy: 0.9754\n",
      "Epoch 00039: val_loss did not improve from 0.32004\n",
      "46/46 [==============================] - 133s 3s/step - loss: 0.3264 - accuracy: 0.9754 - val_loss: 0.3287 - val_accuracy: 0.9812\n",
      "Epoch 40/50\n",
      "46/46 [==============================] - ETA: 0s - loss: 0.3377 - accuracy: 0.9699\n",
      "Epoch 00040: val_loss did not improve from 0.32004\n",
      "46/46 [==============================] - 137s 3s/step - loss: 0.3377 - accuracy: 0.9699 - val_loss: 0.3265 - val_accuracy: 0.9812\n",
      "Epoch 41/50\n",
      "46/46 [==============================] - ETA: 0s - loss: 0.3384 - accuracy: 0.9577\n",
      "Epoch 00041: val_loss did not improve from 0.32004\n",
      "46/46 [==============================] - 138s 3s/step - loss: 0.3384 - accuracy: 0.9577 - val_loss: 0.3246 - val_accuracy: 0.9812\n",
      "Epoch 42/50\n",
      "46/46 [==============================] - ETA: 0s - loss: 0.3367 - accuracy: 0.9727\n",
      "Epoch 00042: val_loss did not improve from 0.32004\n",
      "46/46 [==============================] - 132s 3s/step - loss: 0.3367 - accuracy: 0.9727 - val_loss: 0.3264 - val_accuracy: 0.9812\n",
      "Epoch 43/50\n",
      "46/46 [==============================] - ETA: 0s - loss: 0.3324 - accuracy: 0.9604\n",
      "Epoch 00043: val_loss did not improve from 0.32004\n",
      "46/46 [==============================] - 135s 3s/step - loss: 0.3324 - accuracy: 0.9604 - val_loss: 0.3274 - val_accuracy: 0.9812\n",
      "Epoch 44/50\n",
      "46/46 [==============================] - ETA: 0s - loss: 0.3281 - accuracy: 0.9699\n",
      "Epoch 00044: val_loss did not improve from 0.32004\n",
      "46/46 [==============================] - 145s 3s/step - loss: 0.3281 - accuracy: 0.9699 - val_loss: 0.3252 - val_accuracy: 0.9812\n",
      "Epoch 45/50\n",
      "46/46 [==============================] - ETA: 0s - loss: 0.3388 - accuracy: 0.9577\n",
      "Epoch 00045: val_loss did not improve from 0.32004\n",
      "46/46 [==============================] - 136s 3s/step - loss: 0.3388 - accuracy: 0.9577 - val_loss: 0.3262 - val_accuracy: 0.9812\n",
      "Epoch 46/50\n",
      "46/46 [==============================] - ETA: 0s - loss: 0.3386 - accuracy: 0.9631\n",
      "Epoch 00046: val_loss did not improve from 0.32004\n",
      "46/46 [==============================] - 132s 3s/step - loss: 0.3386 - accuracy: 0.9631 - val_loss: 0.3288 - val_accuracy: 0.9812\n",
      "Epoch 47/50\n",
      "46/46 [==============================] - ETA: 0s - loss: 0.3370 - accuracy: 0.9754\n",
      "Epoch 00047: val_loss did not improve from 0.32004\n",
      "46/46 [==============================] - 134s 3s/step - loss: 0.3370 - accuracy: 0.9754 - val_loss: 0.3273 - val_accuracy: 0.9812\n",
      "Epoch 48/50\n",
      "46/46 [==============================] - ETA: 0s - loss: 0.3406 - accuracy: 0.9699\n",
      "Epoch 00048: val_loss did not improve from 0.32004\n",
      "Restoring model weights from the end of the best epoch.\n",
      "46/46 [==============================] - 140s 3s/step - loss: 0.3406 - accuracy: 0.9699 - val_loss: 0.3294 - val_accuracy: 0.9812\n",
      "Epoch 00048: early stopping\n"
     ]
    },
    {
     "data": {
      "text/plain": [
       "<tensorflow.python.keras.callbacks.History at 0x7f77bbe99438>"
      ]
     },
     "execution_count": 107,
     "metadata": {},
     "output_type": "execute_result"
    }
   ],
   "source": [
    "\n",
    "'''Training the model'''\n",
    "\n",
    "total_epochs=50\n",
    "train_steps = train_generator.n//train_generator.batch_size\n",
    "val_steps    = val_generator.n//val_generator.batch_size\n",
    "\n",
    "\n",
    "model.fit_generator(train_generator,\n",
    "                    steps_per_epoch = train_steps,\n",
    "                    epochs=total_epochs,\n",
    "                    validation_data = val_generator,\n",
    "                    validation_steps=val_steps,\n",
    "                    callbacks=callbacks)\n"
   ]
  },
  {
   "cell_type": "code",
   "execution_count": 106,
   "metadata": {
    "collapsed": true
   },
   "outputs": [
    {
     "ename": "ValueError",
     "evalue": "`y` argument is not supported when using `keras.utils.Sequence` as input.",
     "output_type": "error",
     "traceback": [
      "\u001b[0;31m---------------------------------------------------------------------------\u001b[0m",
      "\u001b[0;31mValueError\u001b[0m                                Traceback (most recent call last)",
      "\u001b[0;32m<ipython-input-106-d2a34b1a6873>\u001b[0m in \u001b[0;36m<module>\u001b[0;34m\u001b[0m\n\u001b[1;32m      4\u001b[0m           \u001b[0mepochs\u001b[0m\u001b[0;34m=\u001b[0m\u001b[0mtotal_epochs\u001b[0m\u001b[0;34m,\u001b[0m\u001b[0;34m\u001b[0m\u001b[0;34m\u001b[0m\u001b[0m\n\u001b[1;32m      5\u001b[0m           \u001b[0mvalidation_data\u001b[0m \u001b[0;34m=\u001b[0m \u001b[0mval_generator\u001b[0m\u001b[0;34m,\u001b[0m\u001b[0;34m\u001b[0m\u001b[0;34m\u001b[0m\u001b[0m\n\u001b[0;32m----> 6\u001b[0;31m           callbacks=callbacks)\n\u001b[0m",
      "\u001b[0;32m~/anaconda3/envs/avocado/lib/python3.6/site-packages/tensorflow/python/keras/engine/training.py\u001b[0m in \u001b[0;36m_method_wrapper\u001b[0;34m(self, *args, **kwargs)\u001b[0m\n\u001b[1;32m    106\u001b[0m   \u001b[0;32mdef\u001b[0m \u001b[0m_method_wrapper\u001b[0m\u001b[0;34m(\u001b[0m\u001b[0mself\u001b[0m\u001b[0;34m,\u001b[0m \u001b[0;34m*\u001b[0m\u001b[0margs\u001b[0m\u001b[0;34m,\u001b[0m \u001b[0;34m**\u001b[0m\u001b[0mkwargs\u001b[0m\u001b[0;34m)\u001b[0m\u001b[0;34m:\u001b[0m\u001b[0;34m\u001b[0m\u001b[0;34m\u001b[0m\u001b[0m\n\u001b[1;32m    107\u001b[0m     \u001b[0;32mif\u001b[0m \u001b[0;32mnot\u001b[0m \u001b[0mself\u001b[0m\u001b[0;34m.\u001b[0m\u001b[0m_in_multi_worker_mode\u001b[0m\u001b[0;34m(\u001b[0m\u001b[0;34m)\u001b[0m\u001b[0;34m:\u001b[0m  \u001b[0;31m# pylint: disable=protected-access\u001b[0m\u001b[0;34m\u001b[0m\u001b[0;34m\u001b[0m\u001b[0m\n\u001b[0;32m--> 108\u001b[0;31m       \u001b[0;32mreturn\u001b[0m \u001b[0mmethod\u001b[0m\u001b[0;34m(\u001b[0m\u001b[0mself\u001b[0m\u001b[0;34m,\u001b[0m \u001b[0;34m*\u001b[0m\u001b[0margs\u001b[0m\u001b[0;34m,\u001b[0m \u001b[0;34m**\u001b[0m\u001b[0mkwargs\u001b[0m\u001b[0;34m)\u001b[0m\u001b[0;34m\u001b[0m\u001b[0;34m\u001b[0m\u001b[0m\n\u001b[0m\u001b[1;32m    109\u001b[0m \u001b[0;34m\u001b[0m\u001b[0m\n\u001b[1;32m    110\u001b[0m     \u001b[0;31m# Running inside `run_distribute_coordinator` already.\u001b[0m\u001b[0;34m\u001b[0m\u001b[0;34m\u001b[0m\u001b[0;34m\u001b[0m\u001b[0m\n",
      "\u001b[0;32m~/anaconda3/envs/avocado/lib/python3.6/site-packages/tensorflow/python/keras/engine/training.py\u001b[0m in \u001b[0;36mfit\u001b[0;34m(self, x, y, batch_size, epochs, verbose, callbacks, validation_split, validation_data, shuffle, class_weight, sample_weight, initial_epoch, steps_per_epoch, validation_steps, validation_batch_size, validation_freq, max_queue_size, workers, use_multiprocessing)\u001b[0m\n\u001b[1;32m   1061\u001b[0m           \u001b[0muse_multiprocessing\u001b[0m\u001b[0;34m=\u001b[0m\u001b[0muse_multiprocessing\u001b[0m\u001b[0;34m,\u001b[0m\u001b[0;34m\u001b[0m\u001b[0;34m\u001b[0m\u001b[0m\n\u001b[1;32m   1062\u001b[0m           \u001b[0mmodel\u001b[0m\u001b[0;34m=\u001b[0m\u001b[0mself\u001b[0m\u001b[0;34m,\u001b[0m\u001b[0;34m\u001b[0m\u001b[0;34m\u001b[0m\u001b[0m\n\u001b[0;32m-> 1063\u001b[0;31m           steps_per_execution=self._steps_per_execution)\n\u001b[0m\u001b[1;32m   1064\u001b[0m \u001b[0;34m\u001b[0m\u001b[0m\n\u001b[1;32m   1065\u001b[0m       \u001b[0;31m# Container that configures and calls `tf.keras.Callback`s.\u001b[0m\u001b[0;34m\u001b[0m\u001b[0;34m\u001b[0m\u001b[0;34m\u001b[0m\u001b[0m\n",
      "\u001b[0;32m~/anaconda3/envs/avocado/lib/python3.6/site-packages/tensorflow/python/keras/engine/data_adapter.py\u001b[0m in \u001b[0;36m__init__\u001b[0;34m(self, x, y, sample_weight, batch_size, steps_per_epoch, initial_epoch, epochs, shuffle, class_weight, max_queue_size, workers, use_multiprocessing, model, steps_per_execution)\u001b[0m\n\u001b[1;32m   1115\u001b[0m         \u001b[0muse_multiprocessing\u001b[0m\u001b[0;34m=\u001b[0m\u001b[0muse_multiprocessing\u001b[0m\u001b[0;34m,\u001b[0m\u001b[0;34m\u001b[0m\u001b[0;34m\u001b[0m\u001b[0m\n\u001b[1;32m   1116\u001b[0m         \u001b[0mdistribution_strategy\u001b[0m\u001b[0;34m=\u001b[0m\u001b[0mds_context\u001b[0m\u001b[0;34m.\u001b[0m\u001b[0mget_strategy\u001b[0m\u001b[0;34m(\u001b[0m\u001b[0;34m)\u001b[0m\u001b[0;34m,\u001b[0m\u001b[0;34m\u001b[0m\u001b[0;34m\u001b[0m\u001b[0m\n\u001b[0;32m-> 1117\u001b[0;31m         model=model)\n\u001b[0m\u001b[1;32m   1118\u001b[0m \u001b[0;34m\u001b[0m\u001b[0m\n\u001b[1;32m   1119\u001b[0m     \u001b[0mstrategy\u001b[0m \u001b[0;34m=\u001b[0m \u001b[0mds_context\u001b[0m\u001b[0;34m.\u001b[0m\u001b[0mget_strategy\u001b[0m\u001b[0;34m(\u001b[0m\u001b[0;34m)\u001b[0m\u001b[0;34m\u001b[0m\u001b[0;34m\u001b[0m\u001b[0m\n",
      "\u001b[0;32m~/anaconda3/envs/avocado/lib/python3.6/site-packages/tensorflow/python/keras/engine/data_adapter.py\u001b[0m in \u001b[0;36m__init__\u001b[0;34m(self, x, y, sample_weights, shuffle, workers, use_multiprocessing, max_queue_size, model, **kwargs)\u001b[0m\n\u001b[1;32m    897\u001b[0m                **kwargs):\n\u001b[1;32m    898\u001b[0m     \u001b[0;32mif\u001b[0m \u001b[0;32mnot\u001b[0m \u001b[0mis_none_or_empty\u001b[0m\u001b[0;34m(\u001b[0m\u001b[0my\u001b[0m\u001b[0;34m)\u001b[0m\u001b[0;34m:\u001b[0m\u001b[0;34m\u001b[0m\u001b[0;34m\u001b[0m\u001b[0m\n\u001b[0;32m--> 899\u001b[0;31m       raise ValueError(\"`y` argument is not supported when using \"\n\u001b[0m\u001b[1;32m    900\u001b[0m                        \"`keras.utils.Sequence` as input.\")\n\u001b[1;32m    901\u001b[0m     \u001b[0;32mif\u001b[0m \u001b[0;32mnot\u001b[0m \u001b[0mis_none_or_empty\u001b[0m\u001b[0;34m(\u001b[0m\u001b[0msample_weights\u001b[0m\u001b[0;34m)\u001b[0m\u001b[0;34m:\u001b[0m\u001b[0;34m\u001b[0m\u001b[0;34m\u001b[0m\u001b[0m\n",
      "\u001b[0;31mValueError\u001b[0m: `y` argument is not supported when using `keras.utils.Sequence` as input."
     ]
    }
   ],
   "source": [
    "'''total_epochs=50\n",
    "model.fit(xtrain, \n",
    "          ytrain, \n",
    "          epochs=total_epochs,\n",
    "          validation_data = np.array(list(validation_data)),\n",
    "          callbacks=callbacks)\n",
    "'''"
   ]
  },
  {
   "cell_type": "code",
   "execution_count": 108,
   "metadata": {},
   "outputs": [
    {
     "name": "stdout",
     "output_type": "stream",
     "text": [
      "export_path = ./Models/SavedModel/\n",
      "\n",
      "INFO:tensorflow:Assets written to: ./Models/SavedModel/assets\n"
     ]
    }
   ],
   "source": [
    "export_path = \"./Models/SavedModel/\"\n",
    "print('export_path = {}\\n'.format(export_path))\n",
    "\n",
    "tf.keras.models.save_model(\n",
    "    model,\n",
    "    export_path,\n",
    "    overwrite=True,\n",
    "    include_optimizer=True,\n",
    "    save_format=None,\n",
    "    signatures=None,\n",
    "    options=None\n",
    ")"
   ]
  },
  {
   "cell_type": "code",
   "execution_count": 109,
   "metadata": {},
   "outputs": [],
   "source": [
    "model_path = \"./Models/SavedModel/\"\n",
    "model = tf.keras.models.load_model(model_path)"
   ]
  },
  {
   "cell_type": "markdown",
   "metadata": {},
   "source": [
    "## Do ripe prediction"
   ]
  },
  {
   "cell_type": "code",
   "execution_count": 110,
   "metadata": {},
   "outputs": [],
   "source": [
    "ripe_prediction = []\n",
    "\n",
    "for root, subdirs, files in os.walk(ripe_test_path):\n",
    "    for elem in files:\n",
    "        img = tf.keras.preprocessing.image.load_img(ripe_test_path+elem, target_size=(224, 224))\n",
    "        new_img = np.array(img, dtype=np.float64)/255.0\n",
    "        image = np.expand_dims(new_img, axis=0) \n",
    "        ripe_prediction.append(0 if model.predict(image) <0.5 else 1)\n",
    "ripe_truth = [0 for i in range(0, len(ripe_prediction))]"
   ]
  },
  {
   "cell_type": "markdown",
   "metadata": {},
   "source": [
    "## Do unripe prediction"
   ]
  },
  {
   "cell_type": "code",
   "execution_count": 111,
   "metadata": {},
   "outputs": [],
   "source": [
    "unripe_prediction = []\n",
    "\n",
    "for root, subdirs, files in os.walk(unripe_test_path):\n",
    "    for elem in files:\n",
    "        img = tf.keras.preprocessing.image.load_img(unripe_test_path+elem, target_size=(224, 224))\n",
    "        new_img = np.array(img, dtype=np.float64)/255.0\n",
    "        image = np.expand_dims(new_img, axis=0) \n",
    "        unripe_prediction.append(0 if model.predict(image) <0.5 else 1)\n",
    "unripe_truth = [1 for i in range(0, len(unripe_prediction))]"
   ]
  },
  {
   "cell_type": "code",
   "execution_count": 112,
   "metadata": {},
   "outputs": [],
   "source": [
    "import seaborn as sns\n",
    "labels=[\"ripe\",\"unripe\"]\n",
    "def drow_confusion_matrix(y,ypred, labels):\n",
    "    matrix=confusion_matrix(y,ypred)\n",
    "    plt.figure(figsize=(15,10))\n",
    "    colors=[\"indianred\",\"lightseagreen\"]\n",
    "    sns.heatmap(matrix,xticklabels=labels,yticklabels=labels,cmap=colors,annot=True,fmt=\"d\")\n",
    "    plt.title(\"confusion Matrix\")\n",
    "    plt.ylabel('Actual')\n",
    "    plt.xlabel(\"Predicted\")\n",
    "    plt.show()"
   ]
  },
  {
   "cell_type": "markdown",
   "metadata": {},
   "source": [
    "## ripe test"
   ]
  },
  {
   "cell_type": "code",
   "execution_count": 121,
   "metadata": {},
   "outputs": [
    {
     "name": "stdout",
     "output_type": "stream",
     "text": [
      "precision_score : 1.0\n",
      "accuracy_score : 1.0\n",
      "recall_score : 1.0\n",
      "True_positive : 0, False_positive : 0, True_negative : 166, False_negative : 0\n"
     ]
    },
    {
     "data": {
      "image/png": "[encoded data removed]",
      "text/plain": [
       "<Figure size 1080x720 with 2 Axes>"
      ]
     },
     "metadata": {
      "needs_background": "light"
     },
     "output_type": "display_data"
    }
   ],
   "source": [
    "ytest = ripe_truth\n",
    "y_pred = ripe_prediction\n",
    "from sklearn.metrics import accuracy_score,precision_score, recall_score, f1_score\n",
    "from sklearn.metrics import confusion_matrix,roc_auc_score,classification_report\n",
    "print('precision_score : '+str(precision_score(ytest, y_pred, average='weighted')))\n",
    "print('accuracy_score : '+str(accuracy_score(ytest, y_pred)))\n",
    "print('recall_score : '+str(recall_score(ytest, y_pred, average='weighted')))\n",
    "\n",
    "tn, fp, fn, tp = confusion_matrix(ytest, y_pred, labels=[0,1]).ravel()\n",
    "print('True_positive : '+str(tp)+', False_positive : '+str(fp)+', True_negative : '+str(tn)+', False_negative : '+str(fn))\n",
    "drow_confusion_matrix(ytest,y_pred, labels)"
   ]
  },
  {
   "cell_type": "markdown",
   "metadata": {},
   "source": [
    "## unripe test"
   ]
  },
  {
   "cell_type": "code",
   "execution_count": 119,
   "metadata": {},
   "outputs": [
    {
     "name": "stdout",
     "output_type": "stream",
     "text": [
      "precision_score : 1.0\n",
      "accuracy_score : 0.993006993006993\n",
      "recall_score : 0.993006993006993\n",
      "True_positive : 142, False_positive : 0, True_negative : 0, False_negative : 1\n"
     ]
    },
    {
     "data": {
      "image/png": "[encoded data removed]",
      "text/plain": [
       "<Figure size 1080x720 with 2 Axes>"
      ]
     },
     "metadata": {
      "needs_background": "light"
     },
     "output_type": "display_data"
    }
   ],
   "source": [
    "ytest = unripe_truth\n",
    "y_pred = unripe_prediction\n",
    "from sklearn.metrics import accuracy_score,precision_score, recall_score, f1_score\n",
    "from sklearn.metrics import confusion_matrix,roc_auc_score,classification_report\n",
    "print('precision_score : '+str(precision_score(ytest, y_pred, average='weighted')))\n",
    "print('accuracy_score : '+str(accuracy_score(ytest, y_pred)))\n",
    "print('recall_score : '+str(recall_score(ytest, y_pred, average='weighted')))\n",
    "tn, fp, fn, tp = confusion_matrix(ytest, y_pred).ravel()\n",
    "print('True_positive : '+str(tp)+', False_positive : '+str(fp)+', True_negative : '+str(tn)+', False_negative : '+str(fn))\n",
    "drow_confusion_matrix(ytest,y_pred, labels)                                                                                                                      "
   ]
  },
  {
   "cell_type": "code",
   "execution_count": null,
   "metadata": {},
   "outputs": [],
   "source": []
  }
 ],
 "metadata": {
  "kernelspec": {
   "display_name": "avocado",
   "language": "python",
   "name": "avocado"
  },
  "language_info": {
   "codemirror_mode": {
    "name": "ipython",
    "version": 3
   },
   "file_extension": ".py",
   "mimetype": "text/x-python",
   "name": "python",
   "nbconvert_exporter": "python",
   "pygments_lexer": "ipython3",
   "version": "3.6.9"
  }
 },
 "nbformat": 4,
 "nbformat_minor": 4
}
